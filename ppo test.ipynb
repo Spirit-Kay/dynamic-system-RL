{
 "cells": [
  {
   "cell_type": "code",
   "execution_count": null,
   "metadata": {},
   "outputs": [],
   "source": [
    "import time\n",
    "import gym\n",
    "from actor_critic_agents import PPO\n",
    "from ac_Q_learning import ac_Q_learning\n",
    "\n",
    "env = gym.make('Pendulum-v0').unwrapped\n",
    "if hasattr(env, 'n_features'):\n",
    "    print(env.n_features)\n",
    "env.n_features = 3\n",
    "ppo = PPO(3, 1)\n",
    "qlearning = ac_Q_learning(n_episodes=100, agent=ppo, env=env)\n",
    "start = time.time()\n",
    "qlearning.main_loop()\n",
    "end = time.time()\n",
    "print('\\nIt takes %.0f' % (end-start))\n",
    "qlearning.plot_reward()"
   ]
  }
 ],
 "metadata": {
  "kernelspec": {
   "display_name": "Python 3",
   "language": "python",
   "name": "python3"
  },
  "language_info": {
   "codemirror_mode": {
    "name": "ipython",
    "version": 3
   },
   "file_extension": ".py",
   "mimetype": "text/x-python",
   "name": "python",
   "nbconvert_exporter": "python",
   "pygments_lexer": "ipython3",
   "version": "3.5.3"
  }
 },
 "nbformat": 4,
 "nbformat_minor": 2
}
